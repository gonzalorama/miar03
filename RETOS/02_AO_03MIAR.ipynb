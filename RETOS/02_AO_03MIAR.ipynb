{
 "cells": [
  {
   "attachments": {},
   "cell_type": "markdown",
   "id": "5bae1ac7",
   "metadata": {},
   "source": [
    "<font color=\"#002856\"><h1 align=\"left\">Algoritmos de optimización</h1></font>\n",
    "<font color=\"#002856\"><h2 align=\"left\">VC-2 Diseño de algoritmos</h2></font> \n",
    "\n",
    "#### Profesor: Juan Francisco Vallalta Rueda\n",
    "---"
   ]
  },
  {
   "attachments": {},
   "cell_type": "markdown",
   "id": "d6a8c0a8",
   "metadata": {},
   "source": [
    "# Medir el tiempo de ejecución"
   ]
  },
  {
   "attachments": {},
   "cell_type": "markdown",
   "id": "e37d9b38",
   "metadata": {},
   "source": [
    "Medir el tiempo de ejecución de un programa es una tarea muy importante, ya que programar no sólo consiste en crear código que funcione, sino código que pueda ser ejecutado en un tiempo razonable.\n",
    "\n",
    "La librería **time** nos permite medir el tiempo de ejecución en Python, utilizando el método  `time()`."
   ]
  },
  {
   "cell_type": "code",
   "execution_count": 1,
   "id": "dc20e4d2",
   "metadata": {},
   "outputs": [
    {
     "name": "stdout",
     "output_type": "stream",
     "text": [
      "10.002641201019287\n"
     ]
    }
   ],
   "source": [
    "# Medida del tiempo de ejecucion con time\n",
    "import time\n",
    "inicio = time.time()\n",
    "\n",
    "# Código a medir\n",
    "time.sleep(10)\n",
    "# -------------\n",
    "\n",
    "fin = time.time()\n",
    "print(fin-inicio) # 1.0005340576171875"
   ]
  },
  {
   "attachments": {},
   "cell_type": "markdown",
   "id": "52b5fc0a",
   "metadata": {},
   "source": [
    "# Generación de números enteros aleatorios "
   ]
  },
  {
   "cell_type": "code",
   "execution_count": 6,
   "id": "ca5148de",
   "metadata": {},
   "outputs": [
    {
     "name": "stdout",
     "output_type": "stream",
     "text": [
      "[695, 385, 928, 730, 82, 906, 416, 429, 707, 59, 556, 643, 489, 851, 385, 940, 465, 515, 942, 745, 219, 305, 8, 943, 218, 371, 483, 174, 136, 257, 482, 94, 385, 201, 530, 522, 460, 204, 882, 754, 24, 341, 576, 946, 97, 758, 491, 270, 746, 12, 652, 158, 483, 623, 710, 665, 856, 935, 963, 342, 247, 890, 673, 143, 54, 905, 868, 522, 1, 248, 690, 720, 363, 878, 567, 586, 593, 901, 574, 835, 853, 915, 188, 937, 489, 182, 228, 948, 247, 291, 223, 602, 741, 761, 199, 691, 72, 718, 965, 583]\n"
     ]
    }
   ],
   "source": [
    "# Mödulo random\n",
    "import random\n",
    "\n",
    "# Inicialización del rango de números a generar\n",
    "inicio= 0\n",
    "fin = 1000\n",
    "cantidad = 100\n",
    "\n",
    "# Lista de números aleatorios\n",
    "numeros_aleatorios = [random.randint(inicio,fin) for i in range(cantidad)]\n",
    "print(numeros_aleatorios)"
   ]
  },
  {
   "attachments": {},
   "cell_type": "markdown",
   "id": "c43d5913",
   "metadata": {},
   "source": [
    "# Ejercicios\n",
    "\n",
    "## Implementa  una solución para el problema del cambio de moneda en un sistema monetario con las siguientes monedas: {1, 2, 5, 10, 20 , 50}"
   ]
  },
  {
   "cell_type": "code",
   "execution_count": 7,
   "id": "af0a8a64",
   "metadata": {},
   "outputs": [
    {
     "name": "stdout",
     "output_type": "stream",
     "text": [
      "{50: 3, 20: 1, 10: 0, 5: 0, 2: 1, 1: 1}\n"
     ]
    }
   ],
   "source": [
    "# Problema de cambio de monedas\n",
    "# Función que devuelve un diccionario con la cantidad de billetes/monedas de cada tipo\n",
    "def cambio(importe):\n",
    "    monedas = { 50:0, 20:0, 10:0, 5:0, 2:0 ,1:0 }\n",
    "    for k in monedas.keys():\n",
    "        while (importe >= k):\n",
    "            monedas[k] += 1\n",
    "            importe -= k\n",
    "    return monedas\n",
    "\n",
    "print(cambio(173))\n"
   ]
  },
  {
   "attachments": {},
   "cell_type": "markdown",
   "id": "9cbf8561",
   "metadata": {},
   "source": [
    "# Reto VC-2\n",
    "\n",
    "## Opción 1: Implementa una solución al problema de las 8 reinas en un tablero 8x8"
   ]
  },
  {
   "cell_type": "code",
   "execution_count": 26,
   "id": "288b5db6",
   "metadata": {},
   "outputs": [
    {
     "name": "stdout",
     "output_type": "stream",
     "text": [
      "0 0\n",
      "0 1\n",
      "1 1\n",
      "2 1\n",
      "3 1\n",
      "1 0\n",
      "0 1\n",
      "1 1\n",
      "0 2\n",
      "1 2\n",
      "2 2\n",
      "3 2\n",
      "2 1\n",
      "3 1\n",
      "0 2\n",
      "1 2\n",
      "2 2\n",
      "3 2\n",
      "2 0\n",
      "0 1\n",
      "0 2\n",
      "1 2\n",
      "2 2\n",
      "3 2\n",
      "1 1\n",
      "2 1\n",
      "0 2\n",
      "1 2\n",
      "2 2\n",
      "0 3\n",
      "1 3\n",
      "2 3\n",
      "3 3\n",
      "3 2\n",
      "3 1\n",
      "3 0\n",
      "0 1\n",
      "0 2\n",
      "1 2\n",
      "2 2\n",
      "3 2\n",
      "1 1\n",
      "0 2\n",
      "1 2\n",
      "2 2\n",
      "3 2\n",
      "2 1\n",
      "3 1\n",
      "0 2\n",
      "0 3\n",
      "1 3\n",
      "2 3\n",
      "3 3\n",
      "1 2\n",
      "2 2\n",
      "3 2\n",
      "0 3\n",
      "1 3\n",
      "2 3\n",
      "3 3\n",
      "[[0. 0. 0. 0.]\n",
      " [0. 0. 0. 0.]\n",
      " [0. 0. 0. 0.]\n",
      " [1. 1. 1. 1.]]\n"
     ]
    }
   ],
   "source": [
    "# Ocho reinas\n",
    "# Escribe aquí tu código\n",
    "import numpy as np\n",
    "\n",
    "n_reinas = 4\n",
    "tablero = np.zeros((n_reinas,n_reinas))\n",
    "\n",
    "def checkPos(fila, columna):\n",
    "    if(np.sum(tablero[:columna]) > 0):\n",
    "        return False\n",
    "    for i, j in zip(range(fila, -1, -1),\n",
    "                    range(columna, -1, -1)):\n",
    "        if tablero[i][j] == 1:\n",
    "            return False\n",
    "    for i, j in zip(range(fila, n_reinas, 1),\n",
    "                    range(columna, -1, -1)):\n",
    "        if tablero[i][j] == 1:\n",
    "            return False\n",
    "    return True\n",
    "        \n",
    "def resolver(columna, n_reinas):\n",
    "    if(columna >= n_reinas):\n",
    "        return True\n",
    "    \n",
    "    for fila in range(0, n_reinas):\n",
    "        print(fila, columna)\n",
    "        if(checkPos(fila, columna)):\n",
    "            tablero[fila][columna] = 1\n",
    "            if(resolver(columna + 1, n_reinas)):\n",
    "                return True\n",
    "            tablero[fila][columna] = 0\n",
    "\n",
    "resolver(0, n_reinas)\n",
    "\n",
    "print(tablero)"
   ]
  },
  {
   "cell_type": "code",
   "execution_count": 28,
   "id": "255c11ff",
   "metadata": {},
   "outputs": [
    {
     "data": {
      "text/plain": [
       "array([[0., 0., 0., 0.],\n",
       "       [0., 0., 0., 0.],\n",
       "       [0., 0., 0., 0.],\n",
       "       [1., 1., 1., 1.]])"
      ]
     },
     "execution_count": 28,
     "metadata": {},
     "output_type": "execute_result"
    }
   ],
   "source": [
    "tablero[:4]"
   ]
  },
  {
   "attachments": {},
   "cell_type": "markdown",
   "id": "e0069a3c",
   "metadata": {},
   "source": [
    "## Opción 2: Implementa una solución del problema de las Torres de Hanoi para un número arbitrario n de fichas"
   ]
  },
  {
   "cell_type": "code",
   "execution_count": 2,
   "id": "f55c9247",
   "metadata": {},
   "outputs": [],
   "source": [
    "# Torres de Hanoy\n",
    "# Escribe aquí tu código\n",
    "\n",
    "\n"
   ]
  }
 ],
 "metadata": {
  "kernelspec": {
   "display_name": "Python 3 (ipykernel)",
   "language": "python",
   "name": "python3"
  },
  "language_info": {
   "codemirror_mode": {
    "name": "ipython",
    "version": 3
   },
   "file_extension": ".py",
   "mimetype": "text/x-python",
   "name": "python",
   "nbconvert_exporter": "python",
   "pygments_lexer": "ipython3",
   "version": "3.10.6"
  }
 },
 "nbformat": 4,
 "nbformat_minor": 5
}
